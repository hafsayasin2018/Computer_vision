{
 "cells": [
  {
   "cell_type": "code",
   "execution_count": 17,
   "id": "9d5c7d60",
   "metadata": {},
   "outputs": [],
   "source": [
    "# import all libraries\n",
    "import json\n",
    "import cv2\n",
    "import os\n",
    "import numpy as np\n",
    "from pycocotools import mask as maskUtils\n",
    "from PIL import Image\n",
    "import matplotlib.pyplot as plt"
   ]
  },
  {
   "cell_type": "markdown",
   "id": "4a9617e8",
   "metadata": {},
   "source": [
    "## Task1- Convert VGG Via Annotation file into Yolo Format"
   ]
  },
  {
   "cell_type": "code",
   "execution_count": 5,
   "id": "16d41f96",
   "metadata": {},
   "outputs": [],
   "source": [
    "# Set the class mapping dictionary\n",
    "class_mapping = {\"dog\": 0, \"cat\": 1}"
   ]
  },
  {
   "cell_type": "code",
   "execution_count": 6,
   "id": "552c838c",
   "metadata": {},
   "outputs": [],
   "source": [
    "# Set the output file paths\n",
    "json_file_path = \"cat_dog_annotations.json\"\n",
    "output_file_path = \"output.txt\""
   ]
  },
  {
   "cell_type": "code",
   "execution_count": 7,
   "id": "40b3c02c",
   "metadata": {},
   "outputs": [],
   "source": [
    "# Load the JSON file\n",
    "with open(json_file_path, \"r\") as f:\n",
    "    data = json.load(f)"
   ]
  },
  {
   "cell_type": "code",
   "execution_count": 8,
   "id": "5d6ea453",
   "metadata": {},
   "outputs": [],
   "source": [
    "# Loop over the images in the JSON\n",
    "for image_id, (image_filename, image_data) in enumerate(data[\"_via_img_metadata\"].items()):\n",
    "    # Get the image width and height\n",
    "    #default_height=[]\n",
    "    #default_width=[]\n",
    "    width = image_data.get(\"width\", 400)\n",
    "    height = image_data.get(\"height\", 700)\n",
    "\n",
    "    # Open the output file for this image\n",
    "    output_filename = f\"{image_id}.txt\"\n",
    "    with open(output_filename, \"w\") as output_file:\n",
    "        # Loop over the regions in the image\n",
    "        for region in image_data[\"regions\"]:\n",
    "            # Get the class name and convert it to an integer\n",
    "            class_name = list(region[\"region_attributes\"][\"class\"].keys())[0]\n",
    "            class_id = class_mapping[class_name]\n",
    "\n",
    "            # Get the bounding box coordinates and convert them to YOLO format\n",
    "            x = region[\"shape_attributes\"][\"x\"]\n",
    "            y = region[\"shape_attributes\"][\"y\"]\n",
    "            w = region[\"shape_attributes\"][\"width\"]\n",
    "            h = region[\"shape_attributes\"][\"height\"]\n",
    "            x_center = x + w / 2\n",
    "            y_center = y + h / 2\n",
    "            x_center /= width\n",
    "            y_center /= height\n",
    "            w /= width\n",
    "            h /= height\n",
    "\n",
    "            # Write the object detection annotation to the output file\n",
    "            output_file.write(f\"{class_id} {x_center} {y_center} {w} {h}\\n\")"
   ]
  },
  {
   "cell_type": "markdown",
   "id": "9a3d2d28",
   "metadata": {},
   "source": [
    "## Task2- Convert VGG Via Annotation file into COCO Format"
   ]
  },
  {
   "cell_type": "code",
   "execution_count": 9,
   "id": "e58c817b",
   "metadata": {},
   "outputs": [],
   "source": [
    "# Initialize the COCO dataset object\n",
    "dataset = {\n",
    "    \"info\": {},\n",
    "    \"licenses\": [],\n",
    "    \"categories\": [{\"id\": 1, \"name\": \"dog\"}, {\"id\": 2, \"name\": \"cat\"}],\n",
    "    \"images\": [],\n",
    "    \"annotations\": []\n",
    "}"
   ]
  },
  {
   "cell_type": "code",
   "execution_count": 10,
   "id": "3d0b62fa",
   "metadata": {},
   "outputs": [],
   "source": [
    "# Add images and annotations to the dataset object\n",
    "image_id = 1\n",
    "annotation_id = 1\n",
    "for filename in data['_via_img_metadata']:\n",
    "    # Add the image to the dataset\n",
    "    img = Image.open(\"1.jpeg\")\n",
    "    width, height = img.size\n",
    "    dataset['images'].append({\n",
    "        \"id\": image_id,\n",
    "        \"width\": width,\n",
    "        \"height\": height,\n",
    "        \"file_name\": filename\n",
    "    })\n",
    "\n",
    "    # Add annotations to the dataset\n",
    "    for region in data['_via_img_metadata'][filename]['regions']:\n",
    "        x, y, w, h = region['shape_attributes']['x'], region['shape_attributes']['y'], region['shape_attributes']['width'], region['shape_attributes']['height']\n",
    "        category = region['region_attributes']['class']\n",
    "        if category == {'dog': True}:\n",
    "            category_id = 1\n",
    "        elif category == {'cat': True}:\n",
    "            category_id = 2\n",
    "        else:\n",
    "            continue\n",
    "        area = w * h\n",
    "        bbox = [x, y, w, h]\n",
    "        segmentation = [[x, y, x+w, y, x+w, y+h, x, y+h]]\n",
    "        annotation = {\n",
    "            \"id\": annotation_id,\n",
    "            \"image_id\": image_id,\n",
    "            \"category_id\": category_id,\n",
    "            \"bbox\": bbox,\n",
    "            \"area\": area,\n",
    "            \"segmentation\": segmentation,\n",
    "            \"iscrowd\": 0\n",
    "        }\n",
    "        dataset['annotations'].append(annotation)\n",
    "        annotation_id += 1\n",
    "\n",
    "    image_id += 1\n",
    "\n",
    "# Save the dataset object to a JSON file\n",
    "with open('coco_annotations.json', 'w') as f:\n",
    "    json.dump(dataset, f)"
   ]
  },
  {
   "cell_type": "markdown",
   "id": "97d4e05f",
   "metadata": {},
   "source": [
    "## Task3- Convert VGG Via Annotation file into YOLO Format plus augment images using noise and changing brightness"
   ]
  },
  {
   "cell_type": "code",
   "execution_count": 11,
   "id": "35458278",
   "metadata": {
    "collapsed": true
   },
   "outputs": [
    {
     "name": "stdout",
     "output_type": "stream",
     "text": [
      "0 1_0.jpeg 34670 34670\n",
      "0 1_1.jpeg 33102 33102\n",
      "0 1_2.jpeg 29556 29556\n",
      "0 1_3.jpeg 30750 30750\n",
      "0 1_4.jpeg 36035 36035\n",
      "0 2_0.jpeg 4735 4735\n",
      "0 2_1.jpeg 4727 4727\n",
      "0 2_2.jpeg 5437 5437\n",
      "0 2_3.jpeg 4650 4650\n",
      "0 2_4.jpeg 5069 5069\n",
      "0 3_0.jpeg 9559 9559\n",
      "0 3_1.jpeg 9728 9728\n",
      "0 3_2.jpeg 9638 9638\n",
      "0 3_3.jpeg 9550 9550\n",
      "0 3_4.jpeg 9663 9663\n",
      "0 4_0.jpeg 167572 167572\n",
      "0 4_1.jpeg 164788 164788\n",
      "0 4_2.jpeg 152478 152478\n",
      "0 4_3.jpeg 155606 155606\n",
      "0 4_4.jpeg 151526 151526\n",
      "0 5_0.jpeg 46602 46602\n",
      "0 5_1.jpeg 49043 49043\n",
      "0 5_2.jpeg 50305 50305\n",
      "0 5_3.jpeg 46988 46988\n",
      "0 5_4.jpeg 49375 49375\n",
      "0 6_0.jpeg 14328 14328\n",
      "0 6_1.jpeg 14312 14312\n",
      "0 6_2.jpeg 17076 17076\n",
      "0 6_3.jpeg 14957 14957\n",
      "0 6_4.jpeg 14322 14322\n",
      "0 7_0.jpeg 26892 26892\n",
      "0 7_1.jpeg 24724 24724\n",
      "0 7_2.jpeg 26059 26059\n",
      "0 7_3.jpeg 26240 26240\n",
      "0 7_4.jpeg 26868 26868\n",
      "0 1_0.jpeg 88773 88773\n",
      "0 1_1.jpeg 88818 88818\n",
      "0 1_2.jpeg 88904 88904\n",
      "0 1_3.jpeg 88866 88866\n",
      "0 1_4.jpeg 88995 88995\n",
      "0 2_0.jpeg 11255 11255\n",
      "0 2_1.jpeg 11282 11282\n",
      "0 2_2.jpeg 11266 11266\n",
      "0 2_3.jpeg 11253 11253\n",
      "0 2_4.jpeg 11162 11162\n",
      "0 3_0.jpeg 14079 14079\n",
      "0 3_1.jpeg 14085 14085\n",
      "0 3_2.jpeg 14073 14073\n",
      "0 3_3.jpeg 14127 14127\n",
      "0 3_4.jpeg 14052 14052\n",
      "0 4_0.jpeg 373009 373009\n",
      "0 4_1.jpeg 372460 372460\n",
      "0 4_2.jpeg 372322 372322\n",
      "0 4_3.jpeg 372032 372032\n",
      "0 4_4.jpeg 372644 372644\n",
      "0 5_0.jpeg 132857 132857\n",
      "0 5_1.jpeg 132720 132720\n",
      "0 5_2.jpeg 132742 132742\n",
      "0 5_3.jpeg 132588 132588\n",
      "0 5_4.jpeg 132569 132569\n",
      "0 6_0.jpeg 36971 36971\n",
      "0 6_1.jpeg 36968 36968\n",
      "0 6_2.jpeg 36972 36972\n",
      "0 6_3.jpeg 36997 36997\n",
      "0 6_4.jpeg 36875 36875\n",
      "0 7_0.jpeg 117180 117180\n",
      "0 7_1.jpeg 117669 117669\n",
      "0 7_2.jpeg 117716 117716\n",
      "0 7_3.jpeg 117670 117670\n",
      "0 7_4.jpeg 117546 117546\n"
     ]
    }
   ],
   "source": [
    "import json\n",
    "\n",
    "# Define the class label (0 since there are no objects to detect)\n",
    "class_label = 0\n",
    "\n",
    "# Load the JSON file\n",
    "with open('brightness_noise.json', 'r') as f:\n",
    "    data = json.load(f)\n",
    "\n",
    "# Loop through each image and generate the YOLO format string\n",
    "for img_data in data.values():\n",
    "    # Extract the image filename and size\n",
    "    filename = img_data['filename']\n",
    "    width = img_data['size']\n",
    "    height = img_data['size']\n",
    "\n",
    "    # Generate the YOLO format string\n",
    "    yolo_str = f\"{class_label} {filename} {width} {height}\"\n",
    "    \n",
    "    # Print the YOLO format string\n",
    "    print(yolo_str)"
   ]
  },
  {
   "cell_type": "markdown",
   "id": "0a91126d",
   "metadata": {},
   "source": [
    "## Task4- Convert VGG Via Annotation file into YOLO Format plus augment images for resizing"
   ]
  },
  {
   "cell_type": "code",
   "execution_count": null,
   "id": "7be9e03d",
   "metadata": {},
   "outputs": [],
   "source": [
    "# define the path to the image directory\n",
    "img_dir = \"resize\""
   ]
  },
  {
   "cell_type": "code",
   "execution_count": null,
   "id": "b7270938",
   "metadata": {},
   "outputs": [],
   "source": [
    "# loop through all the images in the directory\n",
    "for filename in os.listdir(img_dir):\n",
    "    if filename.endswith(\".jpeg\"):\n",
    "\n",
    "        # open the image file\n",
    "        img = Image.open(os.path.join(img_dir, filename))\n",
    "\n",
    "        # get the original image size\n",
    "        original_size = img.size\n",
    "\n",
    "        # resize the image to 0.5 times the original size\n",
    "        new_size = tuple(int(x*0.5) for x in original_size)\n",
    "        img_0_5 = img.resize(new_size)\n",
    "\n",
    "        # resize the image to 2 times the original size\n",
    "        new_size = tuple(int(x*2) for x in original_size)\n",
    "        img_2 = img.resize(new_size)\n",
    "\n",
    "        # resize the image to 3 times the original size\n",
    "        new_size = tuple(int(x*3) for x in original_size)\n",
    "        img_3 = img.resize(new_size)\n",
    "\n",
    "        # save the augmented images\n",
    "        img.save(os.path.join(img_dir, filename))\n",
    "        img_0_5.save(os.path.join(img_dir, filename[:-5] + \"_0.5size.jpeg\"))\n",
    "        img_2.save(os.path.join(img_dir, filename[:-5] + \"_2size.jpeg\"))\n",
    "        img_3.save(os.path.join(img_dir, filename[:-5] + \"_3size.jpeg\"))\n"
   ]
  },
  {
   "cell_type": "code",
   "execution_count": 21,
   "id": "cd8529e1",
   "metadata": {},
   "outputs": [],
   "source": [
    "# Define the class label (0 since there are no objects to detect)\n",
    "class_label = 0"
   ]
  },
  {
   "cell_type": "code",
   "execution_count": 22,
   "id": "f8e057b2",
   "metadata": {},
   "outputs": [],
   "source": [
    "# Load the JSON file\n",
    "with open(\"resize.json\", 'r') as f:\n",
    "    data = json.load(f)"
   ]
  },
  {
   "cell_type": "code",
   "execution_count": 23,
   "id": "2908d51c",
   "metadata": {},
   "outputs": [
    {
     "name": "stdout",
     "output_type": "stream",
     "text": [
      "0 1.jpeg 43643 43643\n",
      "0 1_0.5size.jpeg 15645 15645\n",
      "0 1_2size.jpeg 115623 115623\n",
      "0 1_3size.jpeg 217909 217909\n",
      "0 2.jpeg 5977 5977\n",
      "0 2_0.5size.jpeg 2572 2572\n",
      "0 2_2size.jpeg 14195 14195\n",
      "0 2_3size.jpeg 26421 26421\n",
      "0 3.jpeg 8711 8711\n",
      "0 3_0.5size.jpeg 3137 3137\n",
      "0 3_2size.jpeg 21368 21368\n",
      "0 3_3size.jpeg 38729 38729\n",
      "0 4.jpeg 156298 156298\n",
      "0 4_0.5size.jpeg 45334 45334\n",
      "0 4_2size.jpeg 359339 359339\n",
      "0 4_3size.jpeg 660098 660098\n",
      "0 5.jpeg 51205 51205\n",
      "0 5_0.5size.jpeg 16510 16510\n",
      "0 5_2size.jpeg 119403 119403\n",
      "0 5_3size.jpeg 221181 221181\n",
      "0 6.jpeg 18089 18089\n",
      "0 6_0.5size.jpeg 6154 6154\n",
      "0 6_2size.jpeg 47548 47548\n",
      "0 6_3size.jpeg 86399 86399\n",
      "0 7.jpeg 46018 46018\n",
      "0 7_0.5size.jpeg 15772 15772\n",
      "0 7_2size.jpeg 125045 125045\n",
      "0 7_3size.jpeg 230166 230166\n"
     ]
    }
   ],
   "source": [
    "# Loop through each image and generate the YOLO format string\n",
    "for img_data in data.values():\n",
    "    # Extract the image filename and size\n",
    "    filename = img_data['filename']\n",
    "    width = img_data['size']\n",
    "    height = img_data['size']\n",
    "\n",
    "    # Generate the YOLO format string\n",
    "    yolo_str = f\"{class_label} {filename} {width} {height}\"\n",
    "    \n",
    "    # Print the YOLO format string\n",
    "    print(yolo_str)"
   ]
  },
  {
   "cell_type": "code",
   "execution_count": null,
   "id": "93724d60",
   "metadata": {},
   "outputs": [],
   "source": []
  }
 ],
 "metadata": {
  "kernelspec": {
   "display_name": "Python 3 (ipykernel)",
   "language": "python",
   "name": "python3"
  },
  "language_info": {
   "codemirror_mode": {
    "name": "ipython",
    "version": 3
   },
   "file_extension": ".py",
   "mimetype": "text/x-python",
   "name": "python",
   "nbconvert_exporter": "python",
   "pygments_lexer": "ipython3",
   "version": "3.10.6"
  }
 },
 "nbformat": 4,
 "nbformat_minor": 5
}
